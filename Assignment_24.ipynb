{
  "nbformat": 4,
  "nbformat_minor": 0,
  "metadata": {
    "colab": {
      "provenance": []
    },
    "kernelspec": {
      "name": "python3",
      "display_name": "Python 3"
    },
    "language_info": {
      "name": "python"
    }
  },
  "cells": [
    {
      "cell_type": "markdown",
      "source": [
        "1. What is the relationship between def statements and lambda expressions ?\n",
        "\n",
        "       Both lambda and def create function objects to be called later. Because lambda is an expression, though, it returns a function object instead of assigning it to a name, and it can be used to nest a function definition in places where a def will not work syntactically. A lambda allows for only a single implicit return value expression, though; because it does not support a block of statements, it is not ideal for larger functions.\n",
        "\n",
        "Def Statement\n",
        "\n",
        "1.Easy to interpret               \n",
        "2.Can consists of any number of execution statements inside the function definition\n",
        "3.To return an object from the function, return should be explicitly defined\n",
        "4.Execution time is relatively slower for the same operation performed using lambda functions\n",
        "5.Defined using the keyword def and holds a function name in the local namespace\n",
        "\n",
        "Lambda Expressions\n",
        "\n",
        "1.Interpretation might be tricky\n",
        "2.The limited operation can be performed using lambda functions\n",
        "3.No need of using the return statement\n",
        "4.Execution time of the program is fast for the same operation\n",
        "5.Defined using the keyword lambda and does not compulsorily hold a function name in the local namespace\n",
        "\n"
      ],
      "metadata": {
        "id": "U9RalFw6maZr"
      }
    },
    {
      "cell_type": "code",
      "execution_count": 4,
      "metadata": {
        "colab": {
          "base_uri": "https://localhost:8080/"
        },
        "id": "KCH3dnCnljgR",
        "outputId": "860199b4-6ad4-4a72-b6e5-11f68710f4ae"
      },
      "outputs": [
        {
          "output_type": "stream",
          "name": "stdout",
          "text": [
            "343\n",
            "125\n"
          ]
        }
      ],
      "source": [
        "def cube(y): \n",
        "  return y*y*y\n",
        "g = lambda x: x*x*x \n",
        "print(g(7)) \n",
        "print(cube(5))"
      ]
    },
    {
      "cell_type": "markdown",
      "source": [
        "2. What is the benefit of lambda?\n",
        "\n",
        "        Lambda functions allow you to create small, single-use functions that can save time and space in your code. They ares also useful when you need to call a function that expects a function as an argument for a callback such as Map() and Filter() ."
      ],
      "metadata": {
        "id": "KVx3P2kMmZjV"
      }
    },
    {
      "cell_type": "code",
      "source": [
        "list_of_numbers = [2, 4, 6, 8, 10, 12, 14, 16, 18, 20]\n",
        " \n",
        "modified_list = list(map(lambda val: val * 8, list_of_numbers))\n",
        " \n",
        "print(modified_list)"
      ],
      "metadata": {
        "colab": {
          "base_uri": "https://localhost:8080/"
        },
        "id": "0TL7AQaR2X1Y",
        "outputId": "8e4ef096-d6d9-4be1-bf36-64df688e7c7a"
      },
      "execution_count": 5,
      "outputs": [
        {
          "output_type": "stream",
          "name": "stdout",
          "text": [
            "[16, 32, 48, 64, 80, 96, 112, 128, 144, 160]\n"
          ]
        }
      ]
    },
    {
      "cell_type": "markdown",
      "source": [
        "3. Compare and contrast map, filter, and reduce.\n",
        "\n",
        "**The map() Function**\n",
        "      The map() function iterates through all items in the given iterable and executes the function we passed as an argument on each of them.\n",
        "\n",
        "The syntax is:\n",
        "\n",
        "map(function, iterable(s))"
      ],
      "metadata": {
        "id": "ESLPYgVr2gv-"
      }
    },
    {
      "cell_type": "code",
      "source": [
        "fruit = [\"Apple\", \"Banana\", \"Pear\", \"Apricot\", \"Orange\"]\n",
        "map_object = map(lambda s: s[0] == \"A\", fruit)\n",
        "\n",
        "print(list(map_object))"
      ],
      "metadata": {
        "colab": {
          "base_uri": "https://localhost:8080/"
        },
        "id": "DVb8SgMo4C06",
        "outputId": "029fc92e-22e8-4a5b-9471-734a2fd22ebc"
      },
      "execution_count": 6,
      "outputs": [
        {
          "output_type": "stream",
          "name": "stdout",
          "text": [
            "[True, False, False, True, False]\n"
          ]
        }
      ]
    },
    {
      "cell_type": "markdown",
      "source": [
        "**The filter() Function**\n",
        "\n",
        "      Similar to map(), filter() takes a function object and an iterable and creates a new list.\n",
        "\n",
        "As the name suggests, filter() forms a new list that contains only elements that satisfy a certain condition, i.e. the function we passed returns True.\n",
        "\n",
        "The syntax is:\n",
        "\n",
        "filter(function, iterable(s))"
      ],
      "metadata": {
        "id": "sbYNURAO4Fmt"
      }
    },
    {
      "cell_type": "code",
      "source": [
        "fruit = [\"Apple\", \"Banana\", \"Pear\", \"Apricot\", \"Orange\"]\n",
        "filter_object = filter(lambda s: s[0] == \"A\", fruit)\n",
        "\n",
        "print(list(filter_object))"
      ],
      "metadata": {
        "colab": {
          "base_uri": "https://localhost:8080/"
        },
        "id": "6pNGZwwt4mm2",
        "outputId": "ee7fb82e-ce26-4881-cd67-218651bd2dad"
      },
      "execution_count": 7,
      "outputs": [
        {
          "output_type": "stream",
          "name": "stdout",
          "text": [
            "['Apple', 'Apricot']\n"
          ]
        }
      ]
    },
    {
      "cell_type": "markdown",
      "source": [
        "**The reduce() Function**\n",
        "\n",
        "      reduce() works differently than map() and filter(). It does not return a new list based on the function and iterable we've passed. Instead, it returns a single value.\n",
        "\n",
        "Also, in Python 3 reduce() isn't a built-in function anymore, and it can be found in the functools module.\n",
        "\n",
        "The syntax is:\n",
        "\n",
        "reduce(function, sequence[, initial])"
      ],
      "metadata": {
        "id": "bqPWX6Zk4xOm"
      }
    },
    {
      "cell_type": "code",
      "source": [
        "from functools import reduce\n",
        "\n",
        "list = [2, 4, 7, 3]\n",
        "print(reduce(lambda x, y: x + y, list))\n",
        "print(\"With an initial value: \" + str(reduce(lambda x, y: x + y, list, 10)))"
      ],
      "metadata": {
        "colab": {
          "base_uri": "https://localhost:8080/"
        },
        "id": "Svv0HDu_2Yl3",
        "outputId": "3dc492f5-6467-431d-8067-83a00b033b6d"
      },
      "execution_count": 8,
      "outputs": [
        {
          "output_type": "stream",
          "name": "stdout",
          "text": [
            "16\n",
            "With an initial value: 26\n"
          ]
        }
      ]
    },
    {
      "cell_type": "markdown",
      "source": [
        "4. What are function annotations, and how are they used?\n",
        "\n",
        "Function annotations are arbitrary python expressions that are associated with various part of functions. These expressions are evaluated at compile time and have no life in python’s runtime environment. Python does not attach any meaning to these annotations.\n",
        "\n",
        "**Syntax**\n",
        "Annotations of simple parameters\n",
        "\n",
        "The annotations for parameters take the following form −\n",
        "\n",
        "def foo(x: expression, y: expression = 20):\n",
        "  \n",
        "Whereas the annotations for excess parameters are as −\n",
        "\n",
        "def foo(**args: expression, **kwargs: expression):\n",
        "  "
      ],
      "metadata": {
        "id": "NV-a7a8Z6r07"
      }
    },
    {
      "cell_type": "markdown",
      "source": [
        "5. What are recursive functions, and how are they used?\n",
        "\n",
        "        Recursion is the process of defining something in terms of itself.\n",
        "\n",
        "        In the below example, factorial() is a recursive function as it calls itself."
      ],
      "metadata": {
        "id": "RsQuY8GR7_Ta"
      }
    },
    {
      "cell_type": "code",
      "source": [
        "def factorial(x):\n",
        "    \"\"\"This is a recursive function\n",
        "    to find the factorial of an integer\"\"\"\n",
        "\n",
        "    if x == 1:\n",
        "        return 1\n",
        "    else:\n",
        "        return (x * factorial(x-1))\n",
        "\n",
        "\n",
        "num = 3\n",
        "print(\"The factorial of\", num, \"is\", factorial(num))"
      ],
      "metadata": {
        "colab": {
          "base_uri": "https://localhost:8080/"
        },
        "id": "h9Dh1adD9Txc",
        "outputId": "75b74c6b-51fd-42c1-d5d8-be12e7d9d8a6"
      },
      "execution_count": 9,
      "outputs": [
        {
          "output_type": "stream",
          "name": "stdout",
          "text": [
            "The factorial of 3 is 6\n"
          ]
        }
      ]
    },
    {
      "cell_type": "markdown",
      "source": [
        "6. What are some general design guidelines for coding functions?\n",
        "\n",
        "1.Use a tab for indentation.\n",
        "2.Pythons' default UTF-8 or ASCII encoding. \n",
        "3.Using docstrings. \n",
        "4.Don't write more than 79 characters in a line. \n",
        "5.Using spaces. \n",
        "6.Naming Variables, Constants, Classes and Functions."
      ],
      "metadata": {
        "id": "pkH6KDhc9quh"
      }
    },
    {
      "cell_type": "markdown",
      "source": [
        "7. Name three or more ways that functions can communicate results to a caller.\n",
        "\n",
        "     Functions can send back results with return statements, by changing passed-in mutable arguments, and by setting global variables. Globals are generally frowned upon (except for very special cases, like multithreaded programs) because they can make code more difficult to understand and use. return statements are usually best, but changing mutables is fine (and even useful), if expected. Functions may also communicate results with system devices such as files and sockets."
      ],
      "metadata": {
        "id": "2td8BHL8-iAZ"
      }
    },
    {
      "cell_type": "code",
      "source": [],
      "metadata": {
        "id": "rHBlxhBt5Hba"
      },
      "execution_count": null,
      "outputs": []
    }
  ]
}